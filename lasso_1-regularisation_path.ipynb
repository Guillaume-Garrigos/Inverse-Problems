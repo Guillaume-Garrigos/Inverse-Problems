{
 "cells": [
  {
   "cell_type": "code",
   "execution_count": 14,
   "metadata": {
    "colab": {},
    "colab_type": "code",
    "id": "N2q7INqNNyY2"
   },
   "outputs": [],
   "source": [
    "%matplotlib inline\n",
    "from ipywidgets import interactive\n",
    "import numpy as np\n",
    "from numpy import linalg as la\n",
    "import matplotlib.pyplot as plt"
   ]
  },
  {
   "cell_type": "code",
   "execution_count": null,
   "metadata": {},
   "outputs": [],
   "source": [
    "# Uncoment the next line if you are using Google Colab\n",
    "#!pip install git+https://github.com/Guillaume-Garrigos/invprob.git\n",
    "import invprob.sparse as sparse"
   ]
  },
  {
   "cell_type": "code",
   "execution_count": 15,
   "metadata": {
    "colab": {},
    "colab_type": "code",
    "id": "lDSGYfEfObBp"
   },
   "outputs": [],
   "source": [
    "np.random.seed(seed=78) # Seed for np.random\n",
    "dpi = 100 # Resolution used for plotting (230 for small screen, 100 for large one)\n",
    "folder = \"output/L1_reg/\""
   ]
  },
  {
   "cell_type": "markdown",
   "metadata": {
    "colab_type": "text",
    "id": "kx44MK2sNyZA"
   },
   "source": [
    "# Notes on Inverse Problems by Guillaume Garrigos\n",
    "$\\newcommand{\\RR}{\\mathbb{R}}$\n",
    "$\\newcommand{\\Nn}{\\mathcal{N}}$\n",
    "$\\newcommand{\\EE}{\\mathbb{E}}$"
   ]
  },
  {
   "cell_type": "markdown",
   "metadata": {
    "colab_type": "text",
    "id": "2dPgAa93NyZC"
   },
   "source": [
    "## I. Sparse Regularisation with the L1 norm (LASSO) : the regularization path\n",
    "\n",
    "We try here to recover a ground truth signal $x_0\\in \\RR^N$, being given a finite number of linear measurments:\n",
    "\n",
    "\\begin{equation}\n",
    "y = \\Phi x\n",
    "\\end{equation}\n",
    "\n",
    "where $\\Phi \\in \\RR^{M\\times N}$ and $y \\in \\RR^M$.\n",
    "\n",
    "To do so, we are going to exploit a prior assumption on $x_0$, which is that it is a *sparse* vector, in the sense that it has numerous zero entries.\n",
    "More precisely, we assume that $x_0$ is the solution of the following optimisation problem\n",
    "\n",
    "\\begin{equation}\\label{Eq:true problem}\n",
    "\\min\\limits_{y = \\Phi x} \\ \\Vert x \\Vert_1 , \\hspace{1cm} \\text{ where } \\Vert x \\Vert_1 := \\sum_{i=1}^N \\vert x_i \\vert.\n",
    "\\tag{$P_0$}\n",
    "\\end{equation}"
   ]
  },
  {
   "cell_type": "markdown",
   "metadata": {
    "colab_type": "text",
    "id": "hjCeIEWKNyZE"
   },
   "source": [
    "### 1. Presentation of the problem"
   ]
  },
  {
   "cell_type": "markdown",
   "metadata": {
    "colab_type": "text",
    "id": "FdqvALYsNyZH"
   },
   "source": [
    "We define $\\Phi$, $x_0$ and $y$."
   ]
  },
  {
   "cell_type": "code",
   "execution_count": 16,
   "metadata": {
    "colab": {
     "base_uri": "https://localhost:8080/",
     "height": 226
    },
    "colab_type": "code",
    "executionInfo": {
     "elapsed": 502,
     "status": "error",
     "timestamp": 1552419069727,
     "user": {
      "displayName": "Guillaume Garrigos",
      "photoUrl": "https://lh3.googleusercontent.com/-hUw_svkqf-g/AAAAAAAAAAI/AAAAAAAAAAA/iCYhdwRab5A/s64/photo.jpg",
      "userId": "06176367237589962600"
     },
     "user_tz": -60
    },
    "id": "ir2ZSOoCNyZI",
    "outputId": "3a204511-6bf0-468c-f2c5-2bba768b36bd"
   },
   "outputs": [],
   "source": [
    "# We start by defining the characteristics of the problem: dimensions, sparsity level, etc.\n",
    "data_size = 100 \n",
    "data_number = round(data_size/2)\n",
    "sparsity_level = 10\n",
    "\n",
    "# We define the main components of our problem\n",
    "Phi = np.random.randn(data_number,data_size)\n",
    "x0 = np.sign(sparse.randn(data_size,1,sparsity_level))\n",
    "y = Phi@x0"
   ]
  },
  {
   "cell_type": "markdown",
   "metadata": {
    "colab_type": "text",
    "id": "x2la4lRPNyZN"
   },
   "source": [
    "Let's compare the ground truth $x_0$ with the pseudo inverse solution of the linear system $\\Phi x = y$, that is, $x^\\dagger := \\Phi^\\dagger y$."
   ]
  },
  {
   "cell_type": "code",
   "execution_count": 17,
   "metadata": {
    "colab": {},
    "colab_type": "code",
    "id": "8SL5kDSkNyZP",
    "outputId": "4d82db25-0efc-4efa-aeb1-3edc8ce3368d",
    "scrolled": false
   },
   "outputs": [
    {
     "data": {
      "image/png": "[encoded data removed]",
      "text/plain": [
       "<Figure size 600x400 with 1 Axes>"
      ]
     },
     "metadata": {
      "needs_background": "light"
     },
     "output_type": "display_data"
    }
   ],
   "source": [
    "x_pinv = la.lstsq(Phi, y, rcond=None)[0]\n",
    "_ = plt.figure(dpi=dpi)\n",
    "sparse.stem(x0, \"C0\", \"ground truth\")\n",
    "sparse.stem(x_pinv, \"C1\", \"pinv solution\")\n",
    "plt.show()"
   ]
  },
  {
   "cell_type": "markdown",
   "metadata": {
    "colab_type": "text",
    "id": "B65Hhv4cNyZW"
   },
   "source": [
    "We see that even if $x^\\dagger$ is a solution of the linear system, it is far from $x_0$, and doesn't share at all the same sparse structure.\n",
    "One could argue here that $x^\\dagger$ has high intensities on the support of $x_0$, and so that it would be sufficient to pass it trough a high-pass filter.\n",
    "But this is not true everywhere, and $x^\\dagger$ might have quite high intensities elsewhere, implying that setting up the right threshold would be a hard problem.\n",
    "\n",
    "To recover $x_0$ from $y$ we would need to solve ($P_0$), but this is a hard optimisation problem: it consists in minimising a nonsmooth function over a constraint onto which it is expensive to project on. \n",
    "\n",
    "Instead, we are going to look for an approximation of $x_0$, considering solutions coming from a *regularisation method*. "
   ]
  },
  {
   "cell_type": "markdown",
   "metadata": {
    "colab_type": "text",
    "id": "WcIJkAfoNyZY"
   },
   "source": [
    "### 2. The penalised problem\n",
    "\n",
    "In this example, we are going to consider a variational regularisation method, based on *penalisation*, like the Tikhonov regularisation method.\n",
    "The idea is quite simple: instead of solving ($P_0$), we are going to solve an other problem which can be seen as a perturbation of ($P_0$). \n",
    "More concretely, we are going to relax the constraint $\\Phi x= y$ and replace it by a penalisation term:\n",
    "\n",
    "\\begin{equation}\n",
    "\\min\\limits_{x \\in \\RR^N} f_\\lambda(x):= \\Vert x \\Vert_1 + \\frac{1}{2 \\lambda}\\Vert \\Phi x - y \\Vert^2.\n",
    "\\tag{$P_\\lambda$}\n",
    "\\end{equation}\n",
    "\n",
    "The rationale behind this is that, when $\\lambda \\sim 0$, the solutions of ($P_\\lambda$) must verify $\\Phi x_\\lambda \\sim y$  \"first\", and also having a low $\\ell^1$ norm, which makes them a good approximation of $x_0$.\n",
    "This problem is called the [LASSO](https://en.wikipedia.org/wiki/Lasso_(statistics)) in certain comunities, in particular in statistics and compressed sensing."
   ]
  },
  {
   "cell_type": "markdown",
   "metadata": {
    "colab_type": "text",
    "id": "OQAsn-rONyZa"
   },
   "source": [
    "What we need now is to find a solution of ($P_\\lambda$), for a given (small) parameter $\\lambda$.\n",
    "For this, we are going to use the [Forward-Backward algorithm](https://en.wikipedia.org/wiki/Forward%E2%80%93backward_algorithm).\n",
    "Given an initialization $x^0 \\in \\RR^N$ and a stepsize $0 < \\tau < \\frac{2}{\\Vert \\Phi^* \\Phi \\Vert}$, the Forward-Backward algorithm writes as follows:\n",
    "\n",
    "\\begin{equation}\n",
    "x^{k+1} = \\text{Soft}_{\\lambda \\tau}(x^k - \\tau \\Phi^*(\\Phi x^k - y))\n",
    "\\end{equation}\n",
    "\n",
    "where $\\text{Soft}_{\\alpha} : \\RR^N \\rightarrow \\RR^N$ is the Soft-Thresholding operator, defined for all $\\alpha > 0$ by\n",
    "\n",
    "\\begin{equation}\n",
    "\\text{Soft}_{\\alpha}(x) := \\left(\\text{soft}_{\\alpha}(x_i)\\right)_{i=1,..,N}, \\quad \\text{ where } \\text{soft}_{\\alpha}(x_i) = \n",
    "\\begin{cases}\n",
    "0 & \\text{ if } \\vert x_i \\vert \\leq \\alpha \\\\\n",
    "x - \\text{sgn}(x_i) \\lambda & \\text{ if } \\vert x_i \\vert \\geq \\lambda\n",
    "\\end{cases}\n",
    "\\end{equation}\n",
    "\n",
    "\n"
   ]
  },
  {
   "cell_type": "code",
   "execution_count": 18,
   "metadata": {
    "colab": {},
    "colab_type": "code",
    "id": "TB6gO5pHNyZb"
   },
   "outputs": [],
   "source": [
    "def fb_lasso(A, y, reg_param, iter_nb, x_ini=None, verbose=False):\n",
    "    ''' Use the Forward-Backward algorithm to find a minimizer of:\n",
    "             reg_param*norm(x,1) + 0.5*norm(Ax-y,2)**2\n",
    "        Eventually outputs the functional values and support of the iterates \n",
    "        while running the method\n",
    "    '''\n",
    "    # Manage optional input/output\n",
    "    if verbose:  # Optional output\n",
    "        regret = np.zeros(iter_nb)\n",
    "        support = np.zeros(iter_nb)\n",
    "        details = {\n",
    "            \"function_value\": regret,\n",
    "            \"iterate_support\": support\n",
    "        }\n",
    "    if x_ini is not None:\n",
    "        x = x_ini\n",
    "    else:\n",
    "        x = np.zeros((A.shape[1], 1))\n",
    "\n",
    "    # The core of the algorithm\n",
    "    stepsize = 0.8 * 2/la.norm(A, 2)**2\n",
    "    for k in range(iter_nb):\n",
    "        x = x - stepsize * A.T@(A@x - y)\n",
    "        x = sparse.soft_thresholding(x, reg_param*stepsize)\n",
    "        if verbose:\n",
    "            regret[k] = 0.5*la.norm(A@x-y, 2)**2 + reg_param*la.norm(x, 1)\n",
    "            support[k] = sparse.norm0(x)\n",
    "    \n",
    "    # Output\n",
    "    if verbose:\n",
    "        return x, details\n",
    "    else:\n",
    "        return x"
   ]
  },
  {
   "cell_type": "code",
   "execution_count": 19,
   "metadata": {
    "colab": {},
    "colab_type": "code",
    "id": "B9Px72xuNyZi",
    "outputId": "ad8a6832-8367-460f-eab2-5ab02cca0b28"
   },
   "outputs": [
    {
     "data": {
      "image/png": "[encoded data removed]",
      "text/plain": [
       "<Figure size 600x400 with 1 Axes>"
      ]
     },
     "metadata": {
      "needs_background": "light"
     },
     "output_type": "display_data"
    }
   ],
   "source": [
    "reg_param = 0.1  # We take lambda close to zero. Try to change it!\n",
    "iter_nb = 4000\n",
    "x_reg, details = fb_lasso(Phi, y, reg_param, iter_nb, verbose=True)\n",
    "\n",
    "_ = plt.figure(dpi=dpi)\n",
    "sparse.stem(x0, \"C0\", \"ground truth\")\n",
    "sparse.stem(x_reg, \"C1\", \"reg solution\")\n",
    "plt.show()"
   ]
  },
  {
   "cell_type": "markdown",
   "metadata": {
    "colab_type": "text",
    "id": "aEGMwap5NyZp"
   },
   "source": [
    "We hardly see the difference between $x_\\lambda$ and $x_0$ when $\\lambda =$0.1.\n",
    "The only noticeable difference is the apparition of spikes having a negligeable amplitude. \n",
    "\n",
    "We can look more into details to iterates generated by the algorithm.\n",
    "In particular, we see that the support of the iterates is essentially decreasing (not monotonically though), until a point where it reaches a stable support."
   ]
  },
  {
   "cell_type": "code",
   "execution_count": 20,
   "metadata": {
    "colab": {},
    "colab_type": "code",
    "id": "sG74rGVlNyZq",
    "outputId": "16b85dd6-8f6c-4aa3-c720-c6e641bc7518"
   },
   "outputs": [
    {
     "data": {
      "image/png": "[encoded data removed]",
      "text/plain": [
       "<Figure size 1200x400 with 2 Axes>"
      ]
     },
     "metadata": {
      "needs_background": "light"
     },
     "output_type": "display_data"
    }
   ],
   "source": [
    "plt.figure(dpi=dpi, figsize=(12, 4))\n",
    "\n",
    "plt.subplot(1, 2, 1)\n",
    "plt.title(r\"Evolution of $f_\\lambda(x^k)$\")\n",
    "plt.semilogy(details.get(\"function_value\"))\n",
    "\n",
    "plt.subplot(1, 2, 2)\n",
    "plt.title(r\"Evolution of #supp$(x^k)$\")\n",
    "plt.plot(details.get(\"iterate_support\"))\n",
    "plt.show()"
   ]
  },
  {
   "cell_type": "markdown",
   "metadata": {
    "colab_type": "text",
    "id": "ZFrlLVKhNyZy"
   },
   "source": [
    "### 3. The regularisation path\n",
    "\n",
    "The set \n",
    "\n",
    "$$\\{x_\\lambda \\ | \\ x_\\lambda \\text{ is a solution of } (P_\\lambda), \\lambda > 0 \\}$$\n",
    "\n",
    "is called the *regularization path*, and $\\lambda$ is generally referred to as the *regularisation parameter*.\n",
    "As we saw before, $x_\\lambda \\to x_0$ when $\\lambda \\to 0$.\n",
    "Here we will try to visualise the set of regularised solutions.\n",
    "\n",
    "First, here is a precalculated animation showing $x_\\lambda$ for varying values of $\\lambda$.\n",
    "See how $x_\\lambda$ starts from zero (when $\\lambda$ is large), and then converges to $x_0$ by progressively getting spikes \"growing\".\n",
    "See also how additional spikes appear and then tend to vanish along time.\n",
    "![SegmentLocal](output/L1_reg/reg_path_noiseless.gif \"segment\")\n",
    "\n",
    "Now, if you want to compute yourself these solutions, you just need to use the algorithm introduced above.\n",
    "Here is some code to do so."
   ]
  },
  {
   "cell_type": "code",
   "execution_count": 21,
   "metadata": {
    "colab": {},
    "colab_type": "code",
    "id": "pYDj20-JNyZ0"
   },
   "outputs": [],
   "source": [
    "def compute_solution(reg_param):\n",
    "    ''' Given a regularisation parameter, we compute the corresponding \n",
    "        regularized solution with the FB algorithm. The number of \n",
    "        iterations to use is customly chosen.\n",
    "    '''\n",
    "    reg_param = round(reg_param,1)  # For display purposes\n",
    "    \n",
    "    # Choice of the stopping criterion\n",
    "    if reg_param > 10:\n",
    "        iter_nb = 200\n",
    "    else:\n",
    "        if reg_param > 1:\n",
    "            iter_nb = 1000\n",
    "        else:\n",
    "            iter_nb = 3000\n",
    "    # We get the solution        \n",
    "    x_reg = fb_lasso(Phi, y, reg_param, iter_nb)\n",
    "    # We plot it        \n",
    "    _ = plt.cla()\n",
    "    _ = plt.title(r\"Regularisation parameter $\\lambda=$\" + str(reg_param))\n",
    "    sparse.stem(x0, \"C0\",\"ground truth\")\n",
    "    sparse.stem(x_reg, \"C1\", \"reg solution\")\n",
    "    _ = plt.show()"
   ]
  },
  {
   "cell_type": "code",
   "execution_count": 22,
   "metadata": {
    "colab": {},
    "colab_type": "code",
    "id": "Ws8mdMxuNyZ3",
    "outputId": "b33766c0-0657-49e7-8089-760093874533"
   },
   "outputs": [
    {
     "data": {
      "application/vnd.jupyter.widget-view+json": {
       "model_id": "1007b75e49a64c279105b13fdcaba5f0",
       "version_major": 2,
       "version_minor": 0
      },
      "text/plain": [
       "interactive(children=(IntSlider(value=50, description='reg_param', min=1), Output()), _dom_classes=('widget-in…"
      ]
     },
     "metadata": {},
     "output_type": "display_data"
    },
    {
     "data": {
      "text/plain": [
       "<Figure size 1200x600 with 0 Axes>"
      ]
     },
     "metadata": {},
     "output_type": "display_data"
    }
   ],
   "source": [
    "_ = plt.figure(dpi=dpi, figsize=(12, 6))\n",
    "interactive(compute_solution,reg_param=(1,100,1))"
   ]
  },
  {
   "cell_type": "code",
   "execution_count": null,
   "metadata": {},
   "outputs": [],
   "source": []
  }
 ],
 "metadata": {
  "colab": {
   "name": "lasso_1-regularisation_path.ipynb",
   "provenance": [],
   "version": "0.3.2"
  },
  "kernelspec": {
   "display_name": "Python 3",
   "language": "python",
   "name": "python3"
  },
  "language_info": {
   "codemirror_mode": {
    "name": "ipython",
    "version": 3
   },
   "file_extension": ".py",
   "mimetype": "text/x-python",
   "name": "python",
   "nbconvert_exporter": "python",
   "pygments_lexer": "ipython3",
   "version": "3.7.1"
  }
 },
 "nbformat": 4,
 "nbformat_minor": 1
}
