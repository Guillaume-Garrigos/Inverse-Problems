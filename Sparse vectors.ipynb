{
 "cells": [
  {
   "cell_type": "code",
   "execution_count": 1,
   "metadata": {},
   "outputs": [],
   "source": [
    "from ipywidgets import interact, interactive, fixed, interact_manual\n",
    "import ipywidgets as widgets\n",
    "from IPython.display import Image, display\n",
    "\n",
    "import numpy as np\n",
    "from numpy import linalg as la\n",
    "import matplotlib.pyplot as plt\n",
    "\n",
    "import my_toolbox.sparsity as sparse \n",
    "import my_toolbox.forwardbackward as fb"
   ]
  },
  {
   "cell_type": "code",
   "execution_count": 2,
   "metadata": {},
   "outputs": [],
   "source": [
    "np.random.seed(seed=78) # Seed for np.random\n",
    "dpi = 100 # Resolution used for plotting (230 for small screen, 100 for large one)"
   ]
  },
  {
   "cell_type": "code",
   "execution_count": 3,
   "metadata": {},
   "outputs": [],
   "source": [
    "# We start by defining the characteristics of the problem: dimensions, sparsity level, etc.\n",
    "data_size = 100 \n",
    "data_number = round(data_size/2)\n",
    "sparsity_level = 10\n",
    "noise_level = 1e-2*0"
   ]
  },
  {
   "cell_type": "code",
   "execution_count": 12,
   "metadata": {},
   "outputs": [],
   "source": [
    "# We define the main components of our problem\n",
    "Phi = np.random.randn(data_number,data_size)\n",
    "x0 = np.sign(sparse.randn(data_size,1,sparsity_level))\n",
    "noise = noise_level * np.random.randn(data_number,1)\n",
    "y = Phi@x0 + noise"
   ]
  },
  {
   "cell_type": "code",
   "execution_count": 13,
   "metadata": {},
   "outputs": [],
   "source": [
    "def compute_solution(reg_param):\n",
    "    reg_param = round(reg_param,1)\n",
    "    if reg_param > 10:\n",
    "        iter_nb = 200\n",
    "    else:\n",
    "        if reg_param > 1:\n",
    "            iter_nb = 1000\n",
    "        else:\n",
    "            iter_nb = 3000\n",
    "    _ = plt.figure(dpi=dpi)\n",
    "    x_reg = fb.lasso(Phi, y, reg_param, iter_nb)\n",
    "    _=plt.title(r\"Regularisation parameter $\\lambda=$\"+str(reg_param))\n",
    "    sparse.stem(x0,\"C0\",\"ground truth\")\n",
    "    sparse.stem(x_reg,\"C1\",\"reg solution\")\n",
    "    plt.show()\n",
    "    print(str(reg_param))"
   ]
  },
  {
   "cell_type": "code",
   "execution_count": 14,
   "metadata": {},
   "outputs": [
    {
     "data": {
      "application/vnd.jupyter.widget-view+json": {
       "model_id": "ff41a23233654a15b5a2c1b0e081bc69",
       "version_major": 2,
       "version_minor": 0
      },
      "text/plain": [
       "interactive(children=(IntSlider(value=50, description='reg_param', min=1), Output()), _dom_classes=('widget-in…"
      ]
     },
     "metadata": {},
     "output_type": "display_data"
    }
   ],
   "source": [
    "interactive(compute_solution,reg_param=(1,100,1))"
   ]
  },
  {
   "cell_type": "code",
   "execution_count": 9,
   "metadata": {},
   "outputs": [],
   "source": [
    "def show_solution(reg_param):\n",
    "    reg_param = round(reg_param + 0.0,1)\n",
    "    display(Image(filename='output/L1_reg/reg_sol_'+str(reg_param)+'.png'))"
   ]
  },
  {
   "cell_type": "code",
   "execution_count": 10,
   "metadata": {
    "scrolled": false
   },
   "outputs": [
    {
     "data": {
      "application/vnd.jupyter.widget-view+json": {
       "model_id": "d844291a08b748eabe0e06847821992f",
       "version_major": 2,
       "version_minor": 0
      },
      "text/plain": [
       "interactive(children=(FloatSlider(value=50.00000000000001, description='reg_param', min=0.1), Output()), _dom_…"
      ]
     },
     "metadata": {},
     "output_type": "display_data"
    }
   ],
   "source": [
    "interactive(show_solution,reg_param=(0.1,100,0.1))"
   ]
  },
  {
   "cell_type": "code",
   "execution_count": null,
   "metadata": {},
   "outputs": [],
   "source": []
  }
 ],
 "metadata": {
  "kernelspec": {
   "display_name": "Python 3",
   "language": "python",
   "name": "python3"
  },
  "language_info": {
   "codemirror_mode": {
    "name": "ipython",
    "version": 3
   },
   "file_extension": ".py",
   "mimetype": "text/x-python",
   "name": "python",
   "nbconvert_exporter": "python",
   "pygments_lexer": "ipython3",
   "version": "3.7.1"
  }
 },
 "nbformat": 4,
 "nbformat_minor": 2
}
